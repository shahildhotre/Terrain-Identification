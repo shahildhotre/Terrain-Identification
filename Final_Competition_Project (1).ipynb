{
  "cells": [
    {
      "cell_type": "code",
      "source": [
        "from google.colab import drive\n",
        "drive.mount('/content/drive')"
      ],
      "metadata": {
        "colab": {
          "base_uri": "https://localhost:8080/"
        },
        "id": "q3ighmSpHXwc",
        "outputId": "b1f334c4-49da-44c5-e9a8-9cc6719133be"
      },
      "id": "q3ighmSpHXwc",
      "execution_count": 1,
      "outputs": [
        {
          "output_type": "stream",
          "name": "stdout",
          "text": [
            "Mounted at /content/drive\n"
          ]
        }
      ]
    },
    {
      "cell_type": "code",
      "source": [
        "import warnings\n",
        "warnings.filterwarnings(\"ignore\")"
      ],
      "metadata": {
        "id": "IdiEd2jVVY6r"
      },
      "id": "IdiEd2jVVY6r",
      "execution_count": 2,
      "outputs": []
    },
    {
      "cell_type": "markdown",
      "source": [
        "## IMPORTING ALL THE REQUIRED PACKAGES\n"
      ],
      "metadata": {
        "id": "Q4a9nFjxbwU7"
      },
      "id": "Q4a9nFjxbwU7"
    },
    {
      "cell_type": "code",
      "execution_count": 8,
      "metadata": {
        "id": "informal-botswana"
      },
      "outputs": [],
      "source": [
        "import os\n",
        "import fnmatch\n",
        "import random\n",
        "import numpy as np\n",
        "import pandas as pd\n",
        "import statistics as st\n",
        "import matplotlib.pyplot as plt\n",
        "from scipy import stats\n",
        "\n",
        "from sklearn.metrics import classification_report\n",
        "from sklearn.utils import class_weight\n",
        "from sklearn.preprocessing import StandardScaler, OneHotEncoder\n",
        "\n",
        "import tensorflow as tf\n",
        "from keras.models import Sequential, model_from_yaml\n",
        "from keras.layers import Dense, Dropout, Bidirectional, LSTM\n",
        "from tensorflow.python.keras import regularizers\n",
        "from sklearn.metrics import classification_report\n",
        "from tensorflow.keras.callbacks import ModelCheckpoint\n",
        "from keras.layers.rnn.lstm_v1 import LSTMCell\n",
        "from keras import backend as K"
      ],
      "id": "informal-botswana"
    },
    {
      "cell_type": "markdown",
      "metadata": {
        "id": "nrV7p3jIjgNq"
      },
      "source": [
        "## DATA PREPROCESSING"
      ],
      "id": "nrV7p3jIjgNq"
    },
    {
      "cell_type": "code",
      "source": [
        "\n",
        "#taking mode of 4 consecutive rows\n",
        "def get_mode(X, y, time_step, step_size):\n",
        "    X_values = []\n",
        "    y_values = []\n",
        "    for i in range(0, len(X) - time_step, step_size):\n",
        "        value = X.iloc[i:(i + time_step)].values\n",
        "        X_values.append(value)\n",
        "        labels = y.iloc[i:(i + time_step)]\n",
        "        y_values.append(stats.mode(labels)[0][0])\n",
        "    return np.array(X_values), np.array(y_values).reshape(-1, 1)\n",
        "\n",
        "def preprocess(f):\n",
        "\n",
        "  train_path = \"/content/drive/MyDrive/TrainingData/\"        #loading training data\n",
        "  df_X = pd.read_csv(train_path + f +\"__x.csv\")\n",
        "  df_y = pd.read_csv(train_path + f +\"__y.csv\")\n",
        "  \n",
        "  labels = []\n",
        "\n",
        "  for label in df_y.iterrows():\n",
        "      labels += [label[1][0]] * 4\n",
        "  \n",
        "  df_y_labels = pd.DataFrame(labels)\n",
        "  difference = df_X.shape[0] - df_y_labels.shape[0]\n",
        "  df_X = df_X.iloc[:-difference,:]\n",
        "\n",
        "  columns = list(df_X.columns.values)\n",
        "\n",
        "  scaler = StandardScaler()\n",
        "  scaler = scaler.fit(df_X[columns])\n",
        "  df_X.loc[:, columns] = scaler.transform(df_X[columns].to_numpy())\n",
        "\n",
        "\n",
        "  X, y = get_mode(df_X, df_y_labels, 30, 1)\n",
        "  print(y.shape, X.shape)\n",
        "  return X, y"
      ],
      "metadata": {
        "id": "_j6mG6oHSj_7"
      },
      "id": "_j6mG6oHSj_7",
      "execution_count": null,
      "outputs": []
    },
    {
      "cell_type": "code",
      "execution_count": null,
      "metadata": {
        "id": "MsP86oeajeOd"
      },
      "outputs": [],
      "source": [
        "\n",
        "def train_test_val_split(train = False, val = False, test = False):\n",
        "\n",
        "\n",
        "    train_path = \"/content/drive/MyDrive/TrainingData/\"\n",
        "    trainingFile = os.listdir(train_path)\n",
        "    files_x = fnmatch.filter(trainingFile, '*x.csv')\n",
        "    files_x_time = fnmatch.filter(trainingFile, '*x_time.csv')\n",
        "    files_y = fnmatch.filter(trainingFile, '*y.csv')\n",
        "    files_y_time = fnmatch.filter(trainingFile, '*y_time.csv')\n",
        "    files = sorted(set([x[:14] for x in files_x]))\n",
        "\n",
        "\n",
        "    X_combined = []\n",
        "    y_combined = []\n",
        "\n",
        "    for f in files:\n",
        "\n",
        "        if(train == True):\n",
        "          if(f == \"subject_002_01\" or f == \"subject_001_08\" or f == \"subject_006_03\" or f == \"subject_007_01\"):\n",
        "            continue\n",
        "          X_temp, y_temp = preprocess(f)\n",
        "          X_combined.append(X_temp)\n",
        "          y_combined.append(y_temp)\n",
        "\n",
        "        elif(val == True):\n",
        "          if(f == \"subject_002_01\" or f == \"subject_001_08\"):\n",
        "            X_temp, y_temp = preprocess(f)\n",
        "            X_combined.append(X_temp)\n",
        "            y_combined.append(y_temp)\n",
        "        elif(test == True):\n",
        "          if(f == \"subject_006_03\" or f == \"subject_007_01\"):\n",
        "            X_temp, y_temp = preprocess(f)\n",
        "            X_combined.append(X_temp)\n",
        "            y_combined.append(y_temp)\n",
        "    return np.concatenate(X_combined), np.concatenate(y_combined)\n"
      ],
      "id": "MsP86oeajeOd"
    },
    {
      "cell_type": "code",
      "source": [
        "X_train, y_train = train_test_val_split(train = True)\n",
        "X_test, y_test = train_test_val_split(test = True)\n",
        "X_val, y_val = train_test_val_split(val = True)"
      ],
      "metadata": {
        "colab": {
          "base_uri": "https://localhost:8080/"
        },
        "id": "qDmayClnMoxW",
        "outputId": "2c096004-b0b7-4527-d414-7a2635a26999"
      },
      "id": "qDmayClnMoxW",
      "execution_count": null,
      "outputs": [
        {
          "output_type": "stream",
          "name": "stdout",
          "text": [
            "(37858, 1) (37858, 30, 6)\n",
            "(70138, 1) (70138, 30, 6)\n",
            "(43114, 1) (43114, 30, 6)\n",
            "(54922, 1) (54922, 30, 6)\n",
            "(59086, 1) (59086, 30, 6)\n",
            "(38598, 1) (38598, 30, 6)\n",
            "(31390, 1) (31390, 30, 6)\n",
            "(55366, 1) (55366, 30, 6)\n",
            "(48762, 1) (48762, 30, 6)\n",
            "(51426, 1) (51426, 30, 6)\n",
            "(42286, 1) (42286, 30, 6)\n",
            "(36278, 1) (36278, 30, 6)\n",
            "(47178, 1) (47178, 30, 6)\n",
            "(19498, 1) (19498, 30, 6)\n",
            "(34274, 1) (34274, 30, 6)\n",
            "(34442, 1) (34442, 30, 6)\n",
            "(56046, 1) (56046, 30, 6)\n",
            "(34486, 1) (34486, 30, 6)\n",
            "(44870, 1) (44870, 30, 6)\n",
            "(48090, 1) (48090, 30, 6)\n",
            "(59530, 1) (59530, 30, 6)\n",
            "(46954, 1) (46954, 30, 6)\n",
            "(44606, 1) (44606, 30, 6)\n",
            "(39406, 1) (39406, 30, 6)\n",
            "(48106, 1) (48106, 30, 6)\n",
            "(45094, 1) (45094, 30, 6)\n",
            "(46166, 1) (46166, 30, 6)\n",
            "(66730, 1) (66730, 30, 6)\n",
            "(55966, 1) (55966, 30, 6)\n"
          ]
        }
      ]
    },
    {
      "cell_type": "code",
      "source": [
        "print(X_train.shape, y_train.shape)\n",
        "print(X_val.shape, y_val.shape)\n",
        "print(X_test.shape, y_test.shape)"
      ],
      "metadata": {
        "colab": {
          "base_uri": "https://localhost:8080/"
        },
        "id": "0xByUGZZWx_X",
        "outputId": "41481d60-355b-438b-fce9-931ddbbc1c0d"
      },
      "id": "0xByUGZZWx_X",
      "execution_count": null,
      "outputs": [
        {
          "output_type": "stream",
          "name": "stdout",
          "text": [
            "(1126710, 30, 6) (1126710, 1)\n",
            "(122696, 30, 6) (122696, 1)\n",
            "(91260, 30, 6) (91260, 1)\n"
          ]
        }
      ]
    },
    {
      "cell_type": "code",
      "source": [
        "label_weights = class_weight.compute_class_weight(class_weight = 'balanced', classes = np.unique(y_train), y = y_train.ravel())\n",
        "label_weights = {i:label_weights[i] for i in range(len(label_weights))}\n",
        "print(label_weights)"
      ],
      "metadata": {
        "colab": {
          "base_uri": "https://localhost:8080/"
        },
        "id": "V0OONqBKZpBR",
        "outputId": "032c623e-8163-4f5a-fd63-583aa6a5615e"
      },
      "id": "V0OONqBKZpBR",
      "execution_count": null,
      "outputs": [
        {
          "output_type": "stream",
          "name": "stdout",
          "text": [
            "{0: 0.3258715475333822, 1: 5.860711164745537, 2: 4.427916810764926, 3: 1.8697229376310969}\n"
          ]
        }
      ]
    },
    {
      "cell_type": "code",
      "source": [
        "def encoder(labels):\n",
        "    encoder = OneHotEncoder(handle_unknown = 'ignore', sparse = False)\n",
        "    encoder = encoder.fit(labels)\n",
        "    training_y_encoded = encoder.transform(labels)\n",
        "    return training_y_encoded"
      ],
      "metadata": {
        "id": "wyEHZQMkaKGM"
      },
      "id": "wyEHZQMkaKGM",
      "execution_count": null,
      "outputs": []
    },
    {
      "cell_type": "code",
      "execution_count": null,
      "metadata": {
        "colab": {
          "base_uri": "https://localhost:8080/"
        },
        "id": "injured-office",
        "outputId": "48bceacc-5001-4868-90ce-d428dc46aa18"
      },
      "outputs": [
        {
          "output_type": "stream",
          "name": "stdout",
          "text": [
            "(1126710, 4) (122696, 4) (91260, 4)\n"
          ]
        }
      ],
      "source": [
        "y_train_encoded = encoder(y_train)\n",
        "y_val_encoded = encoder(y_val)\n",
        "y_test_encoded = encoder(y_test)\n",
        "print(y_train_encoded.shape, y_val_encoded.shape, y_test_encoded.shape)"
      ],
      "id": "injured-office"
    },
    {
      "cell_type": "markdown",
      "metadata": {
        "id": "OWAl9zYIoVCI"
      },
      "source": [
        "## MODEL TRAINING"
      ],
      "id": "OWAl9zYIoVCI"
    },
    {
      "cell_type": "code",
      "execution_count": null,
      "metadata": {
        "id": "magrTxA6n3DD"
      },
      "outputs": [],
      "source": [
        "#Evaluation metrics\n",
        "def recall(y_true, y_pred):\n",
        "    true_positives = K.sum(K.round(K.clip(y_true * y_pred, 0, 1)))\n",
        "    possible_positives = K.sum(K.round(K.clip(y_true, 0, 1)))\n",
        "    recall = true_positives / (possible_positives + K.epsilon())\n",
        "    return recall\n",
        "\n",
        "def precision(y_true, y_pred):\n",
        "    true_positives = K.sum(K.round(K.clip(y_true * y_pred, 0, 1)))\n",
        "    predicted_positives = K.sum(K.round(K.clip(y_pred, 0, 1)))\n",
        "    precision = true_positives / (predicted_positives + K.epsilon())\n",
        "    return precision\n",
        "\n",
        "def f1(y_true, y_pred):\n",
        "    p = precision(y_true, y_pred)\n",
        "    r = recall(y_true, y_pred)\n",
        "    return 2 * ((p * r)/(p + r + K.epsilon()))\n",
        "\n",
        "#BiLSTM model\n",
        "\n",
        "def bidirectional_lstm(X_train, y_train_encoded):\n",
        "    n_timesteps, n_features, n_outputs = X_train.shape[1], X_train.shape[2], y_train_encoded.shape[1]\n",
        "    model = Sequential()\n",
        "    model.add(Bidirectional(LSTM(units = 125), input_shape = (n_timesteps, n_features)))\n",
        "    model.add(Dropout(rate = 0.5))\n",
        "    model.add(Dense(units = 125, activation = 'relu'))\n",
        "    model.add(Dense(n_outputs, activation = 'softmax'))\n",
        "    model.compile(loss = 'categorical_crossentropy', optimizer = 'adam', metrics = ['acc', f1, precision, recall])\n",
        "    return model"
      ],
      "id": "magrTxA6n3DD"
    },
    {
      "cell_type": "code",
      "execution_count": null,
      "metadata": {
        "colab": {
          "base_uri": "https://localhost:8080/"
        },
        "id": "consecutive-consequence",
        "outputId": "b0d6b750-43c6-4f9e-e668-15596754e44b"
      },
      "outputs": [
        {
          "output_type": "stream",
          "name": "stdout",
          "text": [
            "Model: \"sequential_4\"\n",
            "_________________________________________________________________\n",
            " Layer (type)                Output Shape              Param #   \n",
            "=================================================================\n",
            " bidirectional_4 (Bidirectio  (None, 250)              132000    \n",
            " nal)                                                            \n",
            "                                                                 \n",
            " dropout_4 (Dropout)         (None, 250)               0         \n",
            "                                                                 \n",
            " dense_8 (Dense)             (None, 125)               31375     \n",
            "                                                                 \n",
            " dense_9 (Dense)             (None, 4)                 504       \n",
            "                                                                 \n",
            "=================================================================\n",
            "Total params: 163,879\n",
            "Trainable params: 163,879\n",
            "Non-trainable params: 0\n",
            "_________________________________________________________________\n"
          ]
        }
      ],
      "source": [
        "model = bidirectional_lstm(X_train, y_train_encoded)\n",
        "model.summary()"
      ],
      "id": "consecutive-consequence"
    },
    {
      "cell_type": "code",
      "execution_count": null,
      "metadata": {
        "colab": {
          "base_uri": "https://localhost:8080/"
        },
        "id": "explicit-lithuania",
        "outputId": "aab9c25d-a5e9-459d-99c1-fc5a5609ee7f"
      },
      "outputs": [
        {
          "output_type": "stream",
          "name": "stdout",
          "text": [
            "Epoch 1/5\n",
            "17605/17605 [==============================] - 2001s 113ms/step - loss: 0.1994 - acc: 0.8849 - f1: 0.8822 - precision: 0.8906 - recall: 0.8747 - val_loss: 1.3956 - val_acc: 0.6115 - val_f1: 0.6068 - val_precision: 0.6135 - val_recall: 0.6009\n",
            "Epoch 2/5\n",
            "17605/17605 [==============================] - 1886s 107ms/step - loss: 0.0988 - acc: 0.9377 - f1: 0.9374 - precision: 0.9398 - recall: 0.9350 - val_loss: 1.7085 - val_acc: 0.6259 - val_f1: 0.6238 - val_precision: 0.6266 - val_recall: 0.6211\n",
            "Epoch 3/5\n",
            "17605/17605 [==============================] - 1877s 107ms/step - loss: 0.0701 - acc: 0.9540 - f1: 0.9539 - precision: 0.9551 - recall: 0.9527 - val_loss: 1.9264 - val_acc: 0.6105 - val_f1: 0.6086 - val_precision: 0.6113 - val_recall: 0.6060\n",
            "Epoch 4/5\n",
            "17605/17605 [==============================] - 1889s 107ms/step - loss: 0.0539 - acc: 0.9641 - f1: 0.9641 - precision: 0.9647 - recall: 0.9634 - val_loss: 2.0262 - val_acc: 0.6386 - val_f1: 0.6368 - val_precision: 0.6390 - val_recall: 0.6347\n",
            "Epoch 5/5\n",
            "17605/17605 [==============================] - 1856s 105ms/step - loss: 0.0442 - acc: 0.9705 - f1: 0.9705 - precision: 0.9709 - recall: 0.9700 - val_loss: 2.2514 - val_acc: 0.6274 - val_f1: 0.6259 - val_precision: 0.6279 - val_recall: 0.6239\n"
          ]
        }
      ],
      "source": [
        "history = model.fit(X_train, y_train_encoded, epochs = 5, batch_size = 64, validation_data = (X_val, y_val_encoded), class_weight = label_weights, verbose = 1, shuffle = True)"
      ],
      "id": "explicit-lithuania"
    },
    {
      "cell_type": "code",
      "source": [
        "model.save('model_epoch5.h5')     #saving model"
      ],
      "metadata": {
        "id": "IgNgLcK1hb1d"
      },
      "id": "IgNgLcK1hb1d",
      "execution_count": null,
      "outputs": []
    },
    {
      "cell_type": "markdown",
      "source": [
        "## PLOTS and Model Evaluation\n",
        "\n",
        "\n"
      ],
      "metadata": {
        "id": "-82iWLZfg3sp"
      },
      "id": "-82iWLZfg3sp"
    },
    {
      "cell_type": "markdown",
      "source": [
        "Loss Curve"
      ],
      "metadata": {
        "id": "bohqjFSXg69U"
      },
      "id": "bohqjFSXg69U"
    },
    {
      "cell_type": "code",
      "source": [
        "plt.title('Loss')\n",
        "plt.plot(history.history['loss'], color='blue', label='train')\n",
        "plt.plot(history.history['val_loss'], color='red', label='test')\n",
        "plt.ylabel('Loss')\n",
        "plt.xlabel('Epoch')\n",
        "plt.legend(['Train', 'Validation'])\n",
        "plt.show()"
      ],
      "metadata": {
        "colab": {
          "base_uri": "https://localhost:8080/",
          "height": 472
        },
        "id": "hMH84DCJg3Hd",
        "outputId": "4fa27757-10c8-4659-a979-285ecd6778fe"
      },
      "id": "hMH84DCJg3Hd",
      "execution_count": null,
      "outputs": [
        {
          "output_type": "display_data",
          "data": {
            "text/plain": [
              "<Figure size 640x480 with 1 Axes>"
            ],
            "image/png": "[encoded data removed]"
          },
          "metadata": {}
        }
      ]
    },
    {
      "cell_type": "markdown",
      "source": [
        "Accuracy Curve"
      ],
      "metadata": {
        "id": "6owOVlXHg-f_"
      },
      "id": "6owOVlXHg-f_"
    },
    {
      "cell_type": "code",
      "source": [
        "plt.title('Accuracy')\n",
        "plt.plot(history.history['acc'], color='blue', label='train')\n",
        "plt.plot(history.history['val_acc'], color='red', label='test')\n",
        "plt.ylabel('Accuracy')\n",
        "plt.xlabel('Epoch')\n",
        "plt.legend(['Train', 'Validation'])\n",
        "plt.show()"
      ],
      "metadata": {
        "colab": {
          "base_uri": "https://localhost:8080/",
          "height": 472
        },
        "id": "2vvRZ5H5hAM6",
        "outputId": "6be4da1e-7631-464e-db0e-ae826e5f824f"
      },
      "id": "2vvRZ5H5hAM6",
      "execution_count": null,
      "outputs": [
        {
          "output_type": "display_data",
          "data": {
            "text/plain": [
              "<Figure size 640x480 with 1 Axes>"
            ],
            "image/png": "[encoded data removed]"
          },
          "metadata": {}
        }
      ]
    },
    {
      "cell_type": "markdown",
      "source": [
        "F1, Precision and Recall Curves"
      ],
      "metadata": {
        "id": "xrxATAMahFYN"
      },
      "id": "xrxATAMahFYN"
    },
    {
      "cell_type": "code",
      "source": [
        "plt.title('F1-Score')\n",
        "plt.plot(history.history['f1'], color='blue', label='train')\n",
        "plt.plot(history.history['val_f1'], color='red', label='test')\n",
        "plt.ylabel('F1-Score')\n",
        "plt.xlabel('Epoch')\n",
        "plt.legend(['Train', 'Validation'])\n",
        "plt.show()\n",
        "\n",
        "plt.title('Precision')\n",
        "plt.plot(history.history['precision_measure'], color='blue', label='train')\n",
        "plt.plot(history.history['val_precision_measure'], color='red', label='test')\n",
        "plt.ylabel('Precision')\n",
        "plt.xlabel('Epoch')\n",
        "plt.legend(['Train', 'Validation'])\n",
        "plt.show()\n",
        "\n",
        "plt.title('Recall')\n",
        "plt.plot(history.history['recall_measure'], color='blue', label='train')\n",
        "plt.plot(history.history['val_recall_measure'], color='red', label='test')\n",
        "plt.ylabel('Recall')\n",
        "plt.xlabel('Epoch')\n",
        "plt.legend(['Train', 'Validation'])\n",
        "plt.show()\n"
      ],
      "metadata": {
        "id": "n_x2BsMPhIxC"
      },
      "id": "n_x2BsMPhIxC",
      "execution_count": null,
      "outputs": []
    },
    {
      "cell_type": "code",
      "execution_count": null,
      "metadata": {
        "colab": {
          "base_uri": "https://localhost:8080/"
        },
        "id": "simple-ability",
        "outputId": "250706be-5249-4dd0-a9cc-344be0d88565"
      },
      "outputs": [
        {
          "output_type": "stream",
          "name": "stdout",
          "text": [
            "2852/2852 [==============================] - 72s 25ms/step - loss: 0.2396 - acc: 0.9303 - f1: 0.9300 - precision: 0.9306 - recall: 0.9295\n"
          ]
        },
        {
          "output_type": "execute_result",
          "data": {
            "text/plain": [
              "[0.23957248032093048,\n",
              " 0.9302761554718018,\n",
              " 0.9300252199172974,\n",
              " 0.930635392665863,\n",
              " 0.9294793009757996]"
            ]
          },
          "metadata": {},
          "execution_count": 81
        }
      ],
      "source": [
        "model.evaluate(X_test, y_test_encoded)"
      ],
      "id": "simple-ability"
    },
    {
      "cell_type": "code",
      "execution_count": null,
      "metadata": {
        "colab": {
          "base_uri": "https://localhost:8080/"
        },
        "id": "illegal-horizontal",
        "outputId": "2d03311c-8b35-4a76-9d5b-23239c2f96c5"
      },
      "outputs": [
        {
          "output_type": "stream",
          "name": "stdout",
          "text": [
            "1426/1426 [==============================] - 63s 44ms/step\n",
            "              precision    recall  f1-score   support\n",
            "\n",
            "           0       0.94      0.96      0.95     65623\n",
            "           1       0.84      0.97      0.90      2892\n",
            "           2       0.88      1.00      0.94      3745\n",
            "           3       0.91      0.79      0.85     19000\n",
            "\n",
            "    accuracy                           0.93     91260\n",
            "   macro avg       0.89      0.93      0.91     91260\n",
            "weighted avg       0.93      0.93      0.93     91260\n",
            "\n"
          ]
        }
      ],
      "source": [
        "y_pred = model.predict(X_test, batch_size = 64, verbose = 1)\n",
        "y_test_bool = np.argmax(y_pred, axis = 1)\n",
        "print(classification_report(y_test, y_test_bool))"
      ],
      "id": "illegal-horizontal"
    },
    {
      "cell_type": "markdown",
      "source": [
        "## HIDDEN TEST DATASET"
      ],
      "metadata": {
        "id": "oDHKISKBHKlU"
      },
      "id": "oDHKISKBHKlU"
    },
    {
      "cell_type": "code",
      "execution_count": null,
      "metadata": {
        "id": "H_wTndSton-Q"
      },
      "outputs": [],
      "source": [
        "#converting test data into format of training data\n",
        "def test_preprocess(X, time_steps, step_size):\n",
        "    X_values = []\n",
        "    for i in range(0, len(X) - time_steps, step_size):\n",
        "        value = X.iloc[i:(i + time_steps)].values\n",
        "        X_values.append(value)        \n",
        "    return np.array(X_values)\n",
        "\n",
        "def get_mode(output):\n",
        "    output_actual = []\n",
        "    for i in range(0, output.shape[0], 4):\n",
        "        lst = list(output[i:i + 4])\n",
        "        output_actual.append(stats.mode(lst)[0])\n",
        "    return np.array(output_actual)\n"
      ],
      "id": "H_wTndSton-Q"
    },
    {
      "cell_type": "code",
      "execution_count": null,
      "metadata": {
        "id": "natural-romantic"
      },
      "outputs": [],
      "source": [
        "#loading test files\n",
        "test_files = ['TestData/subject_009_01__x.csv', 'TestData/subject_010_01__x.csv', \n",
        "              'TestData/subject_011_01__x.csv', 'TestData/subject_012_01__x.csv']\n",
        "\n",
        "y_files = ['TestData/subject_009_01__y_time.csv', 'TestData/subject_010_01__y_time.csv',\n",
        "           'TestData/subject_011_01__y_time.csv', 'TestData/subject_012_01__y_time.csv']\n",
        "\n",
        "prediction_files = ['subject_009_01__y_prediction.csv', 'subject_010_01__y_prediction.csv',\n",
        "                    'subject_011_01__y_prediction.csv', 'subject_012_01__y_prediction.csv']"
      ],
      "id": "natural-romantic"
    },
    {
      "cell_type": "code",
      "execution_count": null,
      "metadata": {
        "id": "KpDlhN95T3w9"
      },
      "outputs": [],
      "source": [
        "#Predicting for test files\n",
        "for i in range(len(test_files)):\n",
        "    input_data = pd.read_csv(test_files[i])\n",
        "    columns = list(input_data.columns.values)\n",
        "\n",
        "    scaler = StandardScaler()\n",
        "    scaler = scaler.fit(input_data[columns])\n",
        "    input_data.loc[:, columns] = scaler.transform(input_data[columns].to_numpy())\n",
        "\n",
        "\n",
        "    y_frame = pd.read_csv(y_files[i])\n",
        "    addl = y_frame.shape[0] * 4 - df.shape[0] + 30\n",
        "    addl_df = pd.DataFrame(input_data.iloc[-addl:])\n",
        "    df = input_data.append(addl_df)\n",
        "    X_test = test_preprocess(df, 30, 1)\n",
        "    y_test = model.predict(X_test, batch_size = 64, verbose = 1)\n",
        "    y_test_bool = np.argmax(y_test, axis = 1)\n",
        "    y_actual = get_mode(y_test_bool)\n",
        "    y_actual = y_actual.reshape(-1)\n",
        "    y_series = pd.Series(y_actual)\n",
        "    y_series.to_csv(\"./Final_Result/\" + prediction_files[i], index = False)"
      ],
      "id": "KpDlhN95T3w9"
    }
  ],
  "metadata": {
    "colab": {
      "provenance": []
    },
    "kernelspec": {
      "display_name": "Python 3",
      "language": "python",
      "name": "python3"
    },
    "language_info": {
      "codemirror_mode": {
        "name": "ipython",
        "version": 3
      },
      "file_extension": ".py",
      "mimetype": "text/x-python",
      "name": "python",
      "nbconvert_exporter": "python",
      "pygments_lexer": "ipython3",
      "version": "3.9.2"
    }
  },
  "nbformat": 4,
  "nbformat_minor": 5
}